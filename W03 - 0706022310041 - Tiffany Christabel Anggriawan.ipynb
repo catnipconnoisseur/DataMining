{
 "cells": [
  {
   "cell_type": "markdown",
   "id": "5061bf2c",
   "metadata": {},
   "source": [
    "<h1>Data Mining\n",
    "<h3>W03 - Class Practice"
   ]
  },
  {
   "cell_type": "markdown",
   "id": "963691ac",
   "metadata": {},
   "source": [
    "Tiffany Christabel Anggriawan - 0706022310041"
   ]
  },
  {
   "cell_type": "markdown",
   "id": "6173ba03",
   "metadata": {},
   "source": [
    "Load the dataset"
   ]
  },
  {
   "cell_type": "code",
   "execution_count": 1,
   "id": "93117b1d",
   "metadata": {},
   "outputs": [],
   "source": [
    "import pandas as pd\n",
    "import numpy as np\n",
    "import matplotlib.pyplot as plt\n",
    "import seaborn as sns\n",
    "from sklearn.model_selection import train_test_split\n",
    "from sklearn.preprocessing import LabelEncoder\n",
    "from sklearn.tree import DecisionTreeClassifier\n",
    "from sklearn.naive_bayes import GaussianNB\n",
    "from sklearn.metrics import accuracy_score, classification_report, confusion_matrix"
   ]
  },
  {
   "cell_type": "code",
   "execution_count": 2,
   "id": "fdce5eba",
   "metadata": {},
   "outputs": [],
   "source": [
    "url = \"https://raw.githubusercontent.com/NathaliaMinoque/datasets/refs/heads/main/synthetic_coffee_health.csv\"\n",
    "df = pd.read_csv(url)"
   ]
  },
  {
   "cell_type": "markdown",
   "id": "74667a67",
   "metadata": {},
   "source": [
    "Inspect structure"
   ]
  },
  {
   "cell_type": "code",
   "execution_count": 3,
   "id": "e302b909",
   "metadata": {},
   "outputs": [
    {
     "name": "stdout",
     "output_type": "stream",
     "text": [
      "<class 'pandas.core.frame.DataFrame'>\n",
      "RangeIndex: 10000 entries, 0 to 9999\n",
      "Data columns (total 16 columns):\n",
      " #   Column                   Non-Null Count  Dtype  \n",
      "---  ------                   --------------  -----  \n",
      " 0   ID                       10000 non-null  int64  \n",
      " 1   Age                      10000 non-null  int64  \n",
      " 2   Gender                   10000 non-null  object \n",
      " 3   Country                  10000 non-null  object \n",
      " 4   Coffee_Intake            10000 non-null  float64\n",
      " 5   Caffeine_mg              10000 non-null  float64\n",
      " 6   Sleep_Hours              10000 non-null  float64\n",
      " 7   Sleep_Quality            10000 non-null  object \n",
      " 8   BMI                      10000 non-null  float64\n",
      " 9   Heart_Rate               10000 non-null  int64  \n",
      " 10  Stress_Level             10000 non-null  object \n",
      " 11  Physical_Activity_Hours  10000 non-null  float64\n",
      " 12  Health_Issues            4059 non-null   object \n",
      " 13  Occupation               10000 non-null  object \n",
      " 14  Smoking                  10000 non-null  int64  \n",
      " 15  Alcohol_Consumption      10000 non-null  int64  \n",
      "dtypes: float64(5), int64(5), object(6)\n",
      "memory usage: 1.2+ MB\n"
     ]
    }
   ],
   "source": [
    "df.info()"
   ]
  },
  {
   "cell_type": "code",
   "execution_count": 4,
   "id": "1a82734f",
   "metadata": {},
   "outputs": [
    {
     "data": {
      "text/html": [
       "<div>\n",
       "<style scoped>\n",
       "    .dataframe tbody tr th:only-of-type {\n",
       "        vertical-align: middle;\n",
       "    }\n",
       "\n",
       "    .dataframe tbody tr th {\n",
       "        vertical-align: top;\n",
       "    }\n",
       "\n",
       "    .dataframe thead th {\n",
       "        text-align: right;\n",
       "    }\n",
       "</style>\n",
       "<table border=\"1\" class=\"dataframe\">\n",
       "  <thead>\n",
       "    <tr style=\"text-align: right;\">\n",
       "      <th></th>\n",
       "      <th>ID</th>\n",
       "      <th>Age</th>\n",
       "      <th>Coffee_Intake</th>\n",
       "      <th>Caffeine_mg</th>\n",
       "      <th>Sleep_Hours</th>\n",
       "      <th>BMI</th>\n",
       "      <th>Heart_Rate</th>\n",
       "      <th>Physical_Activity_Hours</th>\n",
       "      <th>Smoking</th>\n",
       "      <th>Alcohol_Consumption</th>\n",
       "    </tr>\n",
       "  </thead>\n",
       "  <tbody>\n",
       "    <tr>\n",
       "      <th>count</th>\n",
       "      <td>10000.00000</td>\n",
       "      <td>10000.000000</td>\n",
       "      <td>10000.000000</td>\n",
       "      <td>10000.000000</td>\n",
       "      <td>10000.000000</td>\n",
       "      <td>10000.000000</td>\n",
       "      <td>10000.000000</td>\n",
       "      <td>10000.00000</td>\n",
       "      <td>10000.00000</td>\n",
       "      <td>10000.000000</td>\n",
       "    </tr>\n",
       "    <tr>\n",
       "      <th>mean</th>\n",
       "      <td>5000.50000</td>\n",
       "      <td>34.949100</td>\n",
       "      <td>2.509230</td>\n",
       "      <td>238.411010</td>\n",
       "      <td>6.636220</td>\n",
       "      <td>23.986860</td>\n",
       "      <td>70.617800</td>\n",
       "      <td>7.48704</td>\n",
       "      <td>0.20040</td>\n",
       "      <td>0.300700</td>\n",
       "    </tr>\n",
       "    <tr>\n",
       "      <th>std</th>\n",
       "      <td>2886.89568</td>\n",
       "      <td>11.160939</td>\n",
       "      <td>1.450248</td>\n",
       "      <td>137.748815</td>\n",
       "      <td>1.222055</td>\n",
       "      <td>3.906411</td>\n",
       "      <td>9.822951</td>\n",
       "      <td>4.31518</td>\n",
       "      <td>0.40032</td>\n",
       "      <td>0.458585</td>\n",
       "    </tr>\n",
       "    <tr>\n",
       "      <th>min</th>\n",
       "      <td>1.00000</td>\n",
       "      <td>18.000000</td>\n",
       "      <td>0.000000</td>\n",
       "      <td>0.000000</td>\n",
       "      <td>3.000000</td>\n",
       "      <td>15.000000</td>\n",
       "      <td>50.000000</td>\n",
       "      <td>0.00000</td>\n",
       "      <td>0.00000</td>\n",
       "      <td>0.000000</td>\n",
       "    </tr>\n",
       "    <tr>\n",
       "      <th>25%</th>\n",
       "      <td>2500.75000</td>\n",
       "      <td>26.000000</td>\n",
       "      <td>1.500000</td>\n",
       "      <td>138.750000</td>\n",
       "      <td>5.800000</td>\n",
       "      <td>21.300000</td>\n",
       "      <td>64.000000</td>\n",
       "      <td>3.70000</td>\n",
       "      <td>0.00000</td>\n",
       "      <td>0.000000</td>\n",
       "    </tr>\n",
       "    <tr>\n",
       "      <th>50%</th>\n",
       "      <td>5000.50000</td>\n",
       "      <td>34.000000</td>\n",
       "      <td>2.500000</td>\n",
       "      <td>235.400000</td>\n",
       "      <td>6.600000</td>\n",
       "      <td>24.000000</td>\n",
       "      <td>71.000000</td>\n",
       "      <td>7.50000</td>\n",
       "      <td>0.00000</td>\n",
       "      <td>0.000000</td>\n",
       "    </tr>\n",
       "    <tr>\n",
       "      <th>75%</th>\n",
       "      <td>7500.25000</td>\n",
       "      <td>43.000000</td>\n",
       "      <td>3.500000</td>\n",
       "      <td>332.025000</td>\n",
       "      <td>7.500000</td>\n",
       "      <td>26.600000</td>\n",
       "      <td>77.000000</td>\n",
       "      <td>11.20000</td>\n",
       "      <td>0.00000</td>\n",
       "      <td>1.000000</td>\n",
       "    </tr>\n",
       "    <tr>\n",
       "      <th>max</th>\n",
       "      <td>10000.00000</td>\n",
       "      <td>80.000000</td>\n",
       "      <td>8.200000</td>\n",
       "      <td>780.300000</td>\n",
       "      <td>10.000000</td>\n",
       "      <td>38.200000</td>\n",
       "      <td>109.000000</td>\n",
       "      <td>15.00000</td>\n",
       "      <td>1.00000</td>\n",
       "      <td>1.000000</td>\n",
       "    </tr>\n",
       "  </tbody>\n",
       "</table>\n",
       "</div>"
      ],
      "text/plain": [
       "                ID           Age  Coffee_Intake   Caffeine_mg   Sleep_Hours  \\\n",
       "count  10000.00000  10000.000000   10000.000000  10000.000000  10000.000000   \n",
       "mean    5000.50000     34.949100       2.509230    238.411010      6.636220   \n",
       "std     2886.89568     11.160939       1.450248    137.748815      1.222055   \n",
       "min        1.00000     18.000000       0.000000      0.000000      3.000000   \n",
       "25%     2500.75000     26.000000       1.500000    138.750000      5.800000   \n",
       "50%     5000.50000     34.000000       2.500000    235.400000      6.600000   \n",
       "75%     7500.25000     43.000000       3.500000    332.025000      7.500000   \n",
       "max    10000.00000     80.000000       8.200000    780.300000     10.000000   \n",
       "\n",
       "                BMI    Heart_Rate  Physical_Activity_Hours      Smoking  \\\n",
       "count  10000.000000  10000.000000              10000.00000  10000.00000   \n",
       "mean      23.986860     70.617800                  7.48704      0.20040   \n",
       "std        3.906411      9.822951                  4.31518      0.40032   \n",
       "min       15.000000     50.000000                  0.00000      0.00000   \n",
       "25%       21.300000     64.000000                  3.70000      0.00000   \n",
       "50%       24.000000     71.000000                  7.50000      0.00000   \n",
       "75%       26.600000     77.000000                 11.20000      0.00000   \n",
       "max       38.200000    109.000000                 15.00000      1.00000   \n",
       "\n",
       "       Alcohol_Consumption  \n",
       "count         10000.000000  \n",
       "mean              0.300700  \n",
       "std               0.458585  \n",
       "min               0.000000  \n",
       "25%               0.000000  \n",
       "50%               0.000000  \n",
       "75%               1.000000  \n",
       "max               1.000000  "
      ]
     },
     "execution_count": 4,
     "metadata": {},
     "output_type": "execute_result"
    }
   ],
   "source": [
    "df.describe()"
   ]
  },
  {
   "cell_type": "code",
   "execution_count": 5,
   "id": "298b7f4a",
   "metadata": {},
   "outputs": [
    {
     "data": {
      "text/html": [
       "<div>\n",
       "<style scoped>\n",
       "    .dataframe tbody tr th:only-of-type {\n",
       "        vertical-align: middle;\n",
       "    }\n",
       "\n",
       "    .dataframe tbody tr th {\n",
       "        vertical-align: top;\n",
       "    }\n",
       "\n",
       "    .dataframe thead th {\n",
       "        text-align: right;\n",
       "    }\n",
       "</style>\n",
       "<table border=\"1\" class=\"dataframe\">\n",
       "  <thead>\n",
       "    <tr style=\"text-align: right;\">\n",
       "      <th></th>\n",
       "      <th>ID</th>\n",
       "      <th>Age</th>\n",
       "      <th>Gender</th>\n",
       "      <th>Country</th>\n",
       "      <th>Coffee_Intake</th>\n",
       "      <th>Caffeine_mg</th>\n",
       "      <th>Sleep_Hours</th>\n",
       "      <th>Sleep_Quality</th>\n",
       "      <th>BMI</th>\n",
       "      <th>Heart_Rate</th>\n",
       "      <th>Stress_Level</th>\n",
       "      <th>Physical_Activity_Hours</th>\n",
       "      <th>Health_Issues</th>\n",
       "      <th>Occupation</th>\n",
       "      <th>Smoking</th>\n",
       "      <th>Alcohol_Consumption</th>\n",
       "    </tr>\n",
       "  </thead>\n",
       "  <tbody>\n",
       "    <tr>\n",
       "      <th>0</th>\n",
       "      <td>1</td>\n",
       "      <td>40</td>\n",
       "      <td>Male</td>\n",
       "      <td>Germany</td>\n",
       "      <td>3.5</td>\n",
       "      <td>328.1</td>\n",
       "      <td>7.5</td>\n",
       "      <td>Good</td>\n",
       "      <td>24.9</td>\n",
       "      <td>78</td>\n",
       "      <td>Low</td>\n",
       "      <td>14.5</td>\n",
       "      <td>NaN</td>\n",
       "      <td>Other</td>\n",
       "      <td>0</td>\n",
       "      <td>0</td>\n",
       "    </tr>\n",
       "    <tr>\n",
       "      <th>1</th>\n",
       "      <td>2</td>\n",
       "      <td>33</td>\n",
       "      <td>Male</td>\n",
       "      <td>Germany</td>\n",
       "      <td>1.0</td>\n",
       "      <td>94.1</td>\n",
       "      <td>6.2</td>\n",
       "      <td>Good</td>\n",
       "      <td>20.0</td>\n",
       "      <td>67</td>\n",
       "      <td>Low</td>\n",
       "      <td>11.0</td>\n",
       "      <td>NaN</td>\n",
       "      <td>Service</td>\n",
       "      <td>0</td>\n",
       "      <td>0</td>\n",
       "    </tr>\n",
       "    <tr>\n",
       "      <th>2</th>\n",
       "      <td>3</td>\n",
       "      <td>42</td>\n",
       "      <td>Male</td>\n",
       "      <td>Brazil</td>\n",
       "      <td>5.3</td>\n",
       "      <td>503.7</td>\n",
       "      <td>5.9</td>\n",
       "      <td>Fair</td>\n",
       "      <td>22.7</td>\n",
       "      <td>59</td>\n",
       "      <td>Medium</td>\n",
       "      <td>11.2</td>\n",
       "      <td>Mild</td>\n",
       "      <td>Office</td>\n",
       "      <td>0</td>\n",
       "      <td>0</td>\n",
       "    </tr>\n",
       "    <tr>\n",
       "      <th>3</th>\n",
       "      <td>4</td>\n",
       "      <td>53</td>\n",
       "      <td>Male</td>\n",
       "      <td>Germany</td>\n",
       "      <td>2.6</td>\n",
       "      <td>249.2</td>\n",
       "      <td>7.3</td>\n",
       "      <td>Good</td>\n",
       "      <td>24.7</td>\n",
       "      <td>71</td>\n",
       "      <td>Low</td>\n",
       "      <td>6.6</td>\n",
       "      <td>Mild</td>\n",
       "      <td>Other</td>\n",
       "      <td>0</td>\n",
       "      <td>0</td>\n",
       "    </tr>\n",
       "    <tr>\n",
       "      <th>4</th>\n",
       "      <td>5</td>\n",
       "      <td>32</td>\n",
       "      <td>Female</td>\n",
       "      <td>Spain</td>\n",
       "      <td>3.1</td>\n",
       "      <td>298.0</td>\n",
       "      <td>5.3</td>\n",
       "      <td>Fair</td>\n",
       "      <td>24.1</td>\n",
       "      <td>76</td>\n",
       "      <td>Medium</td>\n",
       "      <td>8.5</td>\n",
       "      <td>Mild</td>\n",
       "      <td>Student</td>\n",
       "      <td>0</td>\n",
       "      <td>1</td>\n",
       "    </tr>\n",
       "  </tbody>\n",
       "</table>\n",
       "</div>"
      ],
      "text/plain": [
       "   ID  Age  Gender  Country  Coffee_Intake  Caffeine_mg  Sleep_Hours  \\\n",
       "0   1   40    Male  Germany            3.5        328.1          7.5   \n",
       "1   2   33    Male  Germany            1.0         94.1          6.2   \n",
       "2   3   42    Male   Brazil            5.3        503.7          5.9   \n",
       "3   4   53    Male  Germany            2.6        249.2          7.3   \n",
       "4   5   32  Female    Spain            3.1        298.0          5.3   \n",
       "\n",
       "  Sleep_Quality   BMI  Heart_Rate Stress_Level  Physical_Activity_Hours  \\\n",
       "0          Good  24.9          78          Low                     14.5   \n",
       "1          Good  20.0          67          Low                     11.0   \n",
       "2          Fair  22.7          59       Medium                     11.2   \n",
       "3          Good  24.7          71          Low                      6.6   \n",
       "4          Fair  24.1          76       Medium                      8.5   \n",
       "\n",
       "  Health_Issues Occupation  Smoking  Alcohol_Consumption  \n",
       "0           NaN      Other        0                    0  \n",
       "1           NaN    Service        0                    0  \n",
       "2          Mild     Office        0                    0  \n",
       "3          Mild      Other        0                    0  \n",
       "4          Mild    Student        0                    1  "
      ]
     },
     "execution_count": 5,
     "metadata": {},
     "output_type": "execute_result"
    }
   ],
   "source": [
    "df.head()"
   ]
  },
  {
   "cell_type": "markdown",
   "id": "093e8ecf",
   "metadata": {},
   "source": [
    "<h3>Exploratory Data Analysis (EDA)"
   ]
  },
  {
   "cell_type": "markdown",
   "id": "acc33941",
   "metadata": {},
   "source": [
    "Make at least 3 visualizations and the interpretation"
   ]
  },
  {
   "cell_type": "code",
   "execution_count": 6,
   "id": "33113312",
   "metadata": {},
   "outputs": [
    {
     "data": {
      "image/png": "[encoded data removed]",
      "text/plain": [
       "<Figure size 600x400 with 1 Axes>"
      ]
     },
     "metadata": {},
     "output_type": "display_data"
    },
    {
     "name": "stdout",
     "output_type": "stream",
     "text": [
      "Interpretation: The distribution shows which health issue categories (None, Mild, Moderate, Severe) are most common in the dataset. This is important because it highlights whether the data is balanced or imbalanced. If one category dominates, models may be biased towards predicting that class. A relatively balanced distribution helps improve fairness and accuracy of classification models.\n"
     ]
    }
   ],
   "source": [
    "plt.figure(figsize=(6,4))\n",
    "sns.countplot(data=df, x=\"Health_Issues\", order=df[\"Health_Issues\"].value_counts().index)\n",
    "plt.title(\"Distribution of Health Issues\")\n",
    "plt.show()\n",
    "\n",
    "print(\"Interpretation: The distribution shows which health issue categories (None, Mild, Moderate, Severe) are most common in the dataset. This is important because it highlights whether the data is balanced or imbalanced. If one category dominates, models may be biased towards predicting that class. A relatively balanced distribution helps improve fairness and accuracy of classification models.\")"
   ]
  },
  {
   "cell_type": "code",
   "execution_count": 7,
   "id": "4104abc6",
   "metadata": {},
   "outputs": [
    {
     "data": {
      "image/png": "[encoded data removed]",
      "text/plain": [
       "<Figure size 600x400 with 1 Axes>"
      ]
     },
     "metadata": {},
     "output_type": "display_data"
    },
    {
     "name": "stdout",
     "output_type": "stream",
     "text": [
      "Interpretation: The boxplot illustrates the relationship between daily coffee consumption and health issues. We can observe how individuals with different levels of health issues differ in their coffee intake patterns. If severe health issues are associated with higher average coffee intake, this might suggest that excessive caffeine consumption could negatively impact health. It also shows the variation within each category, which could indicate lifestyle differences.\n"
     ]
    }
   ],
   "source": [
    "plt.figure(figsize=(6,4))\n",
    "sns.boxplot(data=df, x=\"Health_Issues\", y=\"Coffee_Intake\")\n",
    "plt.title(\"Coffee Intake by Health Issues\")\n",
    "plt.show()\n",
    "\n",
    "print(\"Interpretation: The boxplot illustrates the relationship between daily coffee consumption and health issues. We can observe how individuals with different levels of health issues differ in their coffee intake patterns. If severe health issues are associated with higher average coffee intake, this might suggest that excessive caffeine consumption could negatively impact health. It also shows the variation within each category, which could indicate lifestyle differences.\")"
   ]
  },
  {
   "cell_type": "code",
   "execution_count": 8,
   "id": "0096266c",
   "metadata": {},
   "outputs": [
    {
     "data": {
      "image/png": "[encoded data removed]",
      "text/plain": [
       "<Figure size 600x400 with 1 Axes>"
      ]
     },
     "metadata": {},
     "output_type": "display_data"
    },
    {
     "name": "stdout",
     "output_type": "stream",
     "text": [
      "Interpretation: This chart highlights how sleep duration varies across stress levels. People with higher stress levels tend to report fewer hours of sleep, while those with low stress report more. This reinforces research findings that stress can disrupt sleep quality and quantity. The overlap of distributions also shows that not all individuals with high stress have poor sleep, but the overall trend is clear.\n"
     ]
    }
   ],
   "source": [
    "plt.figure(figsize=(6,4))\n",
    "sns.boxplot(data=df, x=\"Stress_Level\", y=\"Sleep_Hours\")\n",
    "plt.title(\"Sleep Hours by Stress Level\")\n",
    "plt.show()\n",
    "\n",
    "print(\"Interpretation: This chart highlights how sleep duration varies across stress levels. People with higher stress levels tend to report fewer hours of sleep, while those with low stress report more. This reinforces research findings that stress can disrupt sleep quality and quantity. The overlap of distributions also shows that not all individuals with high stress have poor sleep, but the overall trend is clear.\")"
   ]
  },
  {
   "cell_type": "code",
   "execution_count": 9,
   "id": "8a24a403",
   "metadata": {},
   "outputs": [
    {
     "data": {
      "image/png": "[encoded data removed]",
      "text/plain": [
       "<Figure size 600x400 with 1 Axes>"
      ]
     },
     "metadata": {},
     "output_type": "display_data"
    },
    {
     "name": "stdout",
     "output_type": "stream",
     "text": [
      "Interpretation: The relationship between BMI and health issues can be observed here. Higher BMI values are more common among individuals with moderate to severe health issues, suggesting a possible link between body weight and health conditions. This supports the idea that maintaining a healthy BMI could help reduce the risk of more severe health outcomes. The spread within each category also indicates variability, meaning BMI alone is not a perfect predictor but is still an important contributing factor.\n"
     ]
    }
   ],
   "source": [
    "plt.figure(figsize=(6,4))\n",
    "sns.boxplot(data=df, x=\"Health_Issues\", y=\"BMI\")\n",
    "plt.title(\"BMI Distribution by Health Issues\")\n",
    "plt.show()\n",
    "\n",
    "print(\"Interpretation: The relationship between BMI and health issues can be observed here. Higher BMI values are more common among individuals with moderate to severe health issues, suggesting a possible link between body weight and health conditions. This supports the idea that maintaining a healthy BMI could help reduce the risk of more severe health outcomes. The spread within each category also indicates variability, meaning BMI alone is not a perfect predictor but is still an important contributing factor.\")"
   ]
  },
  {
   "cell_type": "code",
   "execution_count": 10,
   "id": "9d77296f",
   "metadata": {},
   "outputs": [
    {
     "data": {
      "image/png": "[encoded data removed]",
      "text/plain": [
       "<Figure size 600x400 with 1 Axes>"
      ]
     },
     "metadata": {},
     "output_type": "display_data"
    },
    {
     "name": "stdout",
     "output_type": "stream",
     "text": [
      "Interpretation: Resting heart rate tends to be higher among individuals with high stress levels. This aligns with physiological research showing that stress activates the body's sympathetic nervous system, which increases heart rate. Medium-stress individuals fall between the extremes, while low-stress individuals have the lowest heart rates on average. This provides strong evidence that stress not only affects mental well-being but also directly impacts physical health indicators.\n"
     ]
    }
   ],
   "source": [
    "plt.figure(figsize=(6,4))\n",
    "sns.boxplot(data=df, x=\"Stress_Level\", y=\"Heart_Rate\")\n",
    "plt.title(\"Heart Rate by Stress Level\")\n",
    "plt.show()\n",
    "\n",
    "print(\"Interpretation: Resting heart rate tends to be higher among individuals with high stress levels. This aligns with physiological research showing that stress activates the body's sympathetic nervous system, which increases heart rate. Medium-stress individuals fall between the extremes, while low-stress individuals have the lowest heart rates on average. This provides strong evidence that stress not only affects mental well-being but also directly impacts physical health indicators.\")"
   ]
  },
  {
   "cell_type": "markdown",
   "id": "c3002a4f",
   "metadata": {},
   "source": [
    "Encode categorical variables"
   ]
  },
  {
   "cell_type": "code",
   "execution_count": 11,
   "id": "95190e2c",
   "metadata": {},
   "outputs": [],
   "source": [
    "categorical_cols = [\"Gender\", \"Country\", \"Sleep_Quality\", \"Stress_Level\", \"Occupation\", \"Health_Issues\"]\n",
    "encoders = {}"
   ]
  },
  {
   "cell_type": "code",
   "execution_count": 12,
   "id": "31cd8a27",
   "metadata": {},
   "outputs": [],
   "source": [
    "for col in categorical_cols:\n",
    "    le = LabelEncoder()\n",
    "    df[col] = le.fit_transform(df[col])\n",
    "    encoders[col] = le"
   ]
  },
  {
   "cell_type": "code",
   "execution_count": 13,
   "id": "7788be82",
   "metadata": {},
   "outputs": [],
   "source": [
    "X = df.drop(columns=[\"ID\", \"Health_Issues\"])  \n",
    "y = df[\"Health_Issues\"]  "
   ]
  },
  {
   "cell_type": "markdown",
   "id": "dfbc0283",
   "metadata": {},
   "source": [
    "Split dataset into train/test "
   ]
  },
  {
   "cell_type": "code",
   "execution_count": 14,
   "id": "ca4c3c04",
   "metadata": {},
   "outputs": [],
   "source": [
    "X_train, X_test, y_train, y_test = train_test_split(X, y, test_size=0.2, random_state=42)"
   ]
  },
  {
   "cell_type": "markdown",
   "id": "3eecb131",
   "metadata": {},
   "source": [
    "Train a Decision Tree Classifier"
   ]
  },
  {
   "cell_type": "markdown",
   "id": "6b020cbb",
   "metadata": {},
   "source": [
    "## Algorithm Selection Rationale\n",
    "\n",
    "We will compare two different machine learning approaches:\n",
    "\n",
    "**Decision Trees:** Chosen for their interpretability and ability to handle both numerical and categorical data. We'll test both Entropy and Gini criteria to determine which splitting method performs better for this health prediction task.\n",
    "\n",
    "**Naïve Bayes:** Selected as a probabilistic classifier that works well with mixed data types and provides a baseline comparison. GaussianNB is appropriate for our continuous features like BMI, heart rate, and sleep hours."
   ]
  },
  {
   "cell_type": "markdown",
   "id": "6c5b302e",
   "metadata": {},
   "source": [
    "<h3>Entropy"
   ]
  },
  {
   "cell_type": "code",
   "execution_count": 15,
   "id": "8fe1a54b",
   "metadata": {},
   "outputs": [
    {
     "name": "stdout",
     "output_type": "stream",
     "text": [
      "Decision Tree (Entropy) Accuracy: 0.9965\n"
     ]
    }
   ],
   "source": [
    "clf_entropy = DecisionTreeClassifier(criterion=\"entropy\", random_state=42)\n",
    "clf_entropy.fit(X_train, y_train)\n",
    "y_pred_entropy = clf_entropy.predict(X_test)\n",
    "acc_entropy = accuracy_score(y_test, y_pred_entropy)\n",
    "print(\"Decision Tree (Entropy) Accuracy:\", acc_entropy)"
   ]
  },
  {
   "cell_type": "markdown",
   "id": "02388629",
   "metadata": {},
   "source": [
    "<h3>Gini"
   ]
  },
  {
   "cell_type": "code",
   "execution_count": 16,
   "id": "0dd6a3d6",
   "metadata": {},
   "outputs": [
    {
     "name": "stdout",
     "output_type": "stream",
     "text": [
      "Decision Tree (Gini) Accuracy: 0.9975\n"
     ]
    }
   ],
   "source": [
    "clf_gini = DecisionTreeClassifier(criterion=\"gini\", random_state=42)\n",
    "clf_gini.fit(X_train, y_train)\n",
    "y_pred_gini = clf_gini.predict(X_test)\n",
    "acc_gini = accuracy_score(y_test, y_pred_gini)\n",
    "print(\"Decision Tree (Gini) Accuracy:\", acc_gini)"
   ]
  },
  {
   "cell_type": "markdown",
   "id": "a15bd89a",
   "metadata": {},
   "source": [
    "Train a Naïve Bayes Classifier"
   ]
  },
  {
   "cell_type": "markdown",
   "id": "c4e48a76",
   "metadata": {},
   "source": [
    "<h3>GaussianNB"
   ]
  },
  {
   "cell_type": "code",
   "execution_count": 17,
   "id": "d6fbfa05",
   "metadata": {},
   "outputs": [
    {
     "name": "stdout",
     "output_type": "stream",
     "text": [
      "Naïve Bayes Accuracy: 0.854\n"
     ]
    }
   ],
   "source": [
    "nb = GaussianNB()\n",
    "nb.fit(X_train, y_train)\n",
    "y_pred_nb = nb.predict(X_test)\n",
    "acc_nb = accuracy_score(y_test, y_pred_nb)\n",
    "print(\"Naïve Bayes Accuracy:\", acc_nb)"
   ]
  },
  {
   "cell_type": "markdown",
   "id": "42677904",
   "metadata": {},
   "source": [
    "Compare performance accuracy"
   ]
  },
  {
   "cell_type": "code",
   "execution_count": 18,
   "id": "27e767b5",
   "metadata": {},
   "outputs": [
    {
     "name": "stdout",
     "output_type": "stream",
     "text": [
      "\n",
      "Model Comparison:\n",
      "Decision Tree (Entropy): 0.9965\n",
      "Decision Tree (Gini): 0.9975\n",
      "Naïve Bayes: 0.854\n"
     ]
    }
   ],
   "source": [
    "print(\"\\nModel Comparison:\")\n",
    "print(\"Decision Tree (Entropy):\", acc_entropy)\n",
    "print(\"Decision Tree (Gini):\", acc_gini)\n",
    "print(\"Naïve Bayes:\", acc_nb)"
   ]
  },
  {
   "cell_type": "code",
   "execution_count": 19,
   "id": "35817b33",
   "metadata": {},
   "outputs": [],
   "source": [
    "best_model = max([(acc_entropy, clf_entropy), (acc_gini, clf_gini), (acc_nb, nb)], key=lambda x: x[0])[1]"
   ]
  },
  {
   "cell_type": "markdown",
   "id": "04a63b5d",
   "metadata": {},
   "source": [
    "Given this new unlabeled record"
   ]
  },
  {
   "cell_type": "code",
   "execution_count": 20,
   "id": "581eda37",
   "metadata": {},
   "outputs": [],
   "source": [
    "new_data = {\n",
    "'Age': 28,\n",
    "'Gender': 'Male',\n",
    "'Country': 'Brazil',\n",
    "'Coffee_Intake': 3,\n",
    "'Caffeine_mg': 280,\n",
    "'Sleep_Hours': 5,\n",
    "'Sleep_Quality': 'Poor',\n",
    "'BMI': 25.4,\n",
    "'Heart_Rate': 85,\n",
    "'Stress_Level': 'High',\n",
    "'Physical_Activity_Hours': 2, \n",
    "'Occupation': 'Student',\n",
    "'Smoking': 1,\n",
    "'Alcohol_Consumption': 1\n",
    "}"
   ]
  },
  {
   "cell_type": "code",
   "execution_count": 21,
   "id": "946226f7",
   "metadata": {},
   "outputs": [],
   "source": [
    "new_df = pd.DataFrame([new_data])"
   ]
  },
  {
   "cell_type": "code",
   "execution_count": 22,
   "id": "9f32811e",
   "metadata": {},
   "outputs": [],
   "source": [
    "for col in [\"Gender\", \"Country\", \"Sleep_Quality\", \"Stress_Level\", \"Occupation\"]:\n",
    "    if col in new_df:\n",
    "        new_df[col] = encoders[col].transform(new_df[col]) "
   ]
  },
  {
   "cell_type": "code",
   "execution_count": 23,
   "id": "3da3e9b9",
   "metadata": {},
   "outputs": [
    {
     "name": "stdout",
     "output_type": "stream",
     "text": [
      "\n",
      "Prediction for new record: Mild\n"
     ]
    }
   ],
   "source": [
    "predicted_class = best_model.predict(new_df)[0]\n",
    "predicted_label = encoders[\"Health_Issues\"].inverse_transform([predicted_class])[0]\n",
    "print(\"\\nPrediction for new record:\", predicted_label)"
   ]
  },
  {
   "cell_type": "markdown",
   "id": "986e0317",
   "metadata": {},
   "source": [
    "## Summary and Conclusions\n",
    "\n",
    "### Model Performance Analysis\n",
    "Based on our comparative analysis of machine learning algorithms for health issue prediction:\n",
    "\n",
    "- **Decision Tree (Gini):** Achieved highest accuracy, demonstrating superior performance for this classification task\n",
    "- **Decision Tree (Entropy):** Performed very well, with minimal difference from Gini criterion\n",
    "- **Naïve Bayes:** Provided reasonable baseline performance but was outperformed by decision trees\n",
    "\n",
    "### Key Data Insights\n",
    "From our exploratory data analysis, we discovered important relationships:\n",
    "\n",
    "1. **Stress and Sleep:** Higher stress levels correlate with reduced sleep duration\n",
    "2. **BMI and Health:** Individuals with higher BMI tend to have more severe health issues\n",
    "3. **Heart Rate and Stress:** Elevated stress levels correspond to increased resting heart rate\n",
    "4. **Coffee Consumption:** Patterns vary across different health issue categories\n",
    "\n",
    "### Prediction Outcome\n",
    "For the given new record (28-year-old male student from Brazil with high stress and poor sleep), our best-performing model predicted **health issues classification**, demonstrating the model's practical application for health risk assessment.\n",
    "\n",
    "### Technical Implementation\n",
    "- Successfully handled mixed data types (numerical and categorical)\n",
    "- Implemented proper data preprocessing with label encoding\n",
    "- Applied train/test split methodology for unbiased evaluation\n",
    "- Automated best model selection for optimal performance"
   ]
  }
 ],
 "metadata": {
  "kernelspec": {
   "display_name": "base",
   "language": "python",
   "name": "python3"
  },
  "language_info": {
   "codemirror_mode": {
    "name": "ipython",
    "version": 3
   },
   "file_extension": ".py",
   "mimetype": "text/x-python",
   "name": "python",
   "nbconvert_exporter": "python",
   "pygments_lexer": "ipython3",
   "version": "3.12.4"
  }
 },
 "nbformat": 4,
 "nbformat_minor": 5
}
